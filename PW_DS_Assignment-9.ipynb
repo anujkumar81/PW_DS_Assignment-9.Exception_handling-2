{
 "cells": [
  {
   "cell_type": "code",
   "execution_count": null,
   "id": "5f21a3fa-6df7-48a9-a175-a9bc7e932071",
   "metadata": {},
   "outputs": [],
   "source": [
    "# Question 1:\n",
    "'''Explain why we have to use the Exception class while creating a Custom Exception.'''\n",
    "# Answer:\n",
    "'''In object-oriented programming, including languages like Java and Python, exceptions are used to handle and communicate errors or exceptional conditions that might occur during the execution of a program. These exceptional conditions can include situations like input errors, invalid operations, resource unavailability, etc. The built-in exception classes provided by programming languages cover a wide range of common error scenarios.\n",
    "\n",
    "However, there are times when the predefined exception classes might not precisely match the specific exceptional condition you want to handle in your program. This is where custom exceptions come into play. Custom exceptions allow you to define your own exception classes tailored to your application's needs.\n",
    "\n",
    "When creating a custom exception class, it's a good practice to inherit from the built-in Exception class (or a relevant subclass of Exception) that is provided by the programming language's standard library. Here's why:\n",
    "\n",
    "Consistency: Inheriting from the Exception class maintains consistency within the exception hierarchy. Most programming languages provide a hierarchy of exception classes, with the root being the Exception class. This allows your custom exception to seamlessly integrate with the existing exception handling mechanisms.\n",
    "\n",
    "Catchability: By inheriting from the Exception class, your custom exception can be caught using catch blocks designed to catch general exceptions. For instance, in Java, catching Exception will catch both built-in and custom exceptions derived from it.\n",
    "\n",
    "Clarity and Understanding: When someone else reads your code, they'll immediately understand that your custom class represents an exception, as it inherits from a standard exception base class. This promotes code readability and maintainability.\n",
    "\n",
    "Behavior Extension: The Exception class usually provides essential methods and attributes that you might need in your custom exception, like a message that describes the exception's cause. By inheriting from it, you can easily extend or override these methods to suit your custom exception's behavior.'''\n"
   ]
  },
  {
   "cell_type": "code",
   "execution_count": null,
   "id": "59e5016b-0bdc-463f-8513-7bfe2e1c6a6d",
   "metadata": {},
   "outputs": [],
   "source": []
  },
  {
   "cell_type": "code",
   "execution_count": null,
   "id": "82ab883a-4148-4e0d-9f17-54dfde4fdce0",
   "metadata": {},
   "outputs": [],
   "source": [
    "# Question 2:\n",
    "'''Write a python program to print Python Exception Hierarchy.'''\n",
    "# Answer:\n",
    "def print_exception_hierarchy(exception_class, indent=0):\n",
    "    print(\"  \" * indent + f\"{exception_class.__name__}\")\n",
    "    for subclass in exception_class.__subclasses__():\n",
    "        print_exception_hierarchy(subclass, indent + 1)\n",
    "\n",
    "print(\"Python Exception Hierarchy:\")\n",
    "print_exception_hierarchy(BaseException)\n"
   ]
  },
  {
   "cell_type": "code",
   "execution_count": null,
   "id": "9bae250c-cf7a-4151-a767-38e06497bb12",
   "metadata": {},
   "outputs": [],
   "source": []
  },
  {
   "cell_type": "code",
   "execution_count": null,
   "id": "a7df3927-069e-4467-b6ca-af7a5786b5b3",
   "metadata": {},
   "outputs": [],
   "source": [
    "# Question 3:\n",
    "\"\"\"What errors are defined in the ArithmeticError class? Explain any two with an example.\"\"\"\n",
    "# Answer:\n",
    "\"\"\"The ArithmeticError class is a built-in exception class in Python that serves as a base class for exceptions related to arithmetic operations. It provides a common base for exceptions that can occur during various arithmetic operations. Here are two exceptions that are defined in the ArithmeticError class, along with explanations and examples:\n",
    "\n",
    "1. ZeroDivisionError:\n",
    "This exception is raised when attempting to divide a number by zero.\"\"\"\n",
    "# Example:\n",
    "try:\n",
    "    result = 10 / 0\n",
    "except ZeroDivisionError:\n",
    "    print(\"Error: Division by zero!\")\n",
    "\n",
    "'''2. OverflowError:\n",
    "This exception is raised when an arithmetic operation exceeds the limits of the data type.'''\n",
    "\n",
    "# Example:\n",
    "try:\n",
    "    big_number = 10 ** 1000  # A very large number\n",
    "    squared = big_number * big_number\n",
    "except OverflowError:\n",
    "    print(\"Error: Arithmetic operation overflow!\")\n"
   ]
  },
  {
   "cell_type": "code",
   "execution_count": null,
   "id": "0467cdec-0066-4e82-a99a-34afed0ef082",
   "metadata": {},
   "outputs": [],
   "source": []
  },
  {
   "cell_type": "code",
   "execution_count": null,
   "id": "730fd9f4-58b1-4a9f-9799-82c64e302002",
   "metadata": {},
   "outputs": [],
   "source": [
    "# Question 4:\n",
    "''' Why LookupError class is used? Explain with an example KeyError and IndexError.'''\n",
    "# Answer:\n",
    "\"\"\"The LookupError class is a base class for exceptions that occur when a key or index used for data retrieval is not found or valid. It's used as a common base class for exceptions that involve lookup operations in sequences (like lists) or mappings (like dictionaries).\"\"\"\n",
    "# 1. KeyError:\n",
    "'''This exception is raised when trying to access a dictionary key that doesn't exist.'''\n",
    "# Example:\n",
    "\n",
    "\n",
    "my_dict = {'a': 1, 'b': 2, 'c': 3}\n",
    "\n",
    "try:\n",
    "    value = my_dict['d']\n",
    "except KeyError:\n",
    "    print(\"Error: Key 'd' not found in the dictionary.\")\n",
    "    \n",
    "    \n"
   ]
  },
  {
   "cell_type": "code",
   "execution_count": null,
   "id": "0cebadff-536c-4119-b710-2da67e8cf07e",
   "metadata": {},
   "outputs": [],
   "source": [
    "# 2. IndexError:\n",
    "'''This exception is raised when trying to access an index that is out of bounds of a sequence, like a list or a string.'''\n",
    "# Example:\n",
    "\n",
    "my_list = [10, 20, 30]\n",
    "\n",
    "try:\n",
    "    element = my_list[3]\n",
    "except IndexError:\n",
    "    print(\"Error: Index out of bounds.\")\n"
   ]
  },
  {
   "cell_type": "code",
   "execution_count": null,
   "id": "2c2602d7-b231-4485-a424-cb072fd730df",
   "metadata": {},
   "outputs": [],
   "source": []
  },
  {
   "cell_type": "code",
   "execution_count": null,
   "id": "59710db5-817c-4ba5-9154-a51836576e1c",
   "metadata": {},
   "outputs": [],
   "source": [
    "# Question 5:\n",
    "'''Explain ImportError. What is ModuleNotFoundError?'''\n",
    "# Answer:\n",
    "'''ImportError is a built-in exception in Python that is raised when an import statement cannot locate the module you are trying to import. It's a general exception for all import-related errors, encompassing various issues that might occur during the module import process.\n",
    "\n",
    "One common situation where an ImportError occurs is when the module you're trying to import doesn't exist, is not accessible, or there is an issue with the module's content.'''\n",
    "\n",
    "# Example:\n",
    "#Suppose you have a file named my_module.py, and you're trying to import it. If the file my_module.py doesn't actually exist in the same directory as your script, trying to import it will raise an ImportError.\n",
    "\n",
    "\n",
    "try:\n",
    "    import my_module  # Assuming my_module.py doesn't exist\n",
    "except ImportError:\n",
    "    print(\"Error: Module 'my_module' not found.\")\n"
   ]
  },
  {
   "cell_type": "code",
   "execution_count": null,
   "id": "dedbd5b6-7a06-4da0-b974-4f507bf69a1d",
   "metadata": {},
   "outputs": [],
   "source": []
  },
  {
   "cell_type": "code",
   "execution_count": null,
   "id": "1b421194-1da5-44a1-8584-fa2c5ebbfd5f",
   "metadata": {},
   "outputs": [],
   "source": [
    "# Question 6:\n",
    "''' List down some best practices for exception handling in python.'''\n",
    "#Answer:\n",
    "#1. Be Specific in Exception Handling:\n",
    "'''Catch only the exceptions you expect and can handle. Avoid using broad exception handlers like except Exception: as they can mask errors and make debugging difficult. Catch the most specific exception classes possible.'''\n",
    "\n",
    "# 2. Use Multiple Except Blocks:\n",
    "'''When handling multiple types of exceptions, use separate except blocks for each exception type. This makes your code more readable and allows you to handle different exceptions differently.'''\n",
    "\n",
    "# 3. Use Finally for Cleanup:\n",
    "'''If you need to ensure that certain cleanup code runs regardless of whether an exception was raised, use a finally block. This is useful for releasing resources like files, sockets, or database connections.'''\n",
    "\n",
    "# 4. Avoid Bare except:\n",
    "'''Avoid using a bare except block (e.g., except:) without specifying an exception class. This catches all exceptions, including system-exiting signals like KeyboardInterrupt. Instead, catch specific exceptions.'''\n",
    "\n",
    "# 5. Raising Exceptions Explicitly:\n",
    "'''Raise exceptions explicitly when your code encounters exceptional conditions that should be handled by calling code. Use the raise statement to raise built-in or custom exceptions.'''\n",
    "\n",
    "# 6. Use Custom Exceptions:\n",
    "'''Create custom exception classes that provide meaningful names and error messages for exceptional conditions specific to your application. This improves code readability and maintainability.'''\n",
    "\n",
    "# 7. Logging Exceptions:\n",
    "'''Consider using the built-in logging module to log exceptions and their details. This helps in diagnosing issues in production environments.'''\n",
    "\n",
    "# 8. Avoid Catching SystemExit:\n",
    "'''Avoid catching SystemExit exceptions unless you have a specific reason for doing so. Letting these exceptions propagate will allow the program to exit gracefully.'''\n",
    "\n",
    "# 9. Handle Exceptions Locally:\n",
    "'''Whenever possible, handle exceptions locally in the function or method where they occur. This makes your code more self-contained and reduces the chance of unexpected behavior elsewhere.'''\n",
    "\n",
    "# 10. Avoid Overusing try-except Blocks:\n",
    "'''Exception handling should not be used to control program flow. It's better to design your code in a way that avoids relying on exceptions for normal control flow.'''\n",
    "\n",
    "# 11. Use Context Managers (with Statements):\n",
    "'''For managing resources like files, databases, and network connections, use context managers (e.g., with statements). They help ensure proper resource cleanup and exception handling.'''\n",
    "\n",
    "# 12. Use else with try Statements:\n",
    "'''Use the else clause with try statements to include code that should run if no exceptions are raised. This can improve the clarity of your code and separate exceptional cases from regular cases.'''\n",
    "\n"
   ]
  }
 ],
 "metadata": {
  "kernelspec": {
   "display_name": "Python 3 (ipykernel)",
   "language": "python",
   "name": "python3"
  },
  "language_info": {
   "codemirror_mode": {
    "name": "ipython",
    "version": 3
   },
   "file_extension": ".py",
   "mimetype": "text/x-python",
   "name": "python",
   "nbconvert_exporter": "python",
   "pygments_lexer": "ipython3",
   "version": "3.10.8"
  }
 },
 "nbformat": 4,
 "nbformat_minor": 5
}
